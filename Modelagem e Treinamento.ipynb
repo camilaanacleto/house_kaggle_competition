{
 "cells": [
  {
   "cell_type": "code",
   "execution_count": null,
   "metadata": {},
   "outputs": [],
   "source": [
    "from sklearn.ensemble import RandomForestRegressor, GradientBoostingRegressor\n",
    "from sklearn.linear_model import Lasso\n",
    "from sklearn.model_selection import cross_val_score\n",
    "from sklearn.pipeline import Pipeline"
   ]
  },
  {
   "cell_type": "code",
   "execution_count": null,
   "metadata": {},
   "outputs": [],
   "source": [
    "# Modelo Ensemble Customizado\n",
    "class CustomEnsemble:\n",
    "    def __init__(self):\n",
    "        self.models = [\n",
    "            RandomForestRegressor(n_estimators=100),\n",
    "            GradientBoostingRegressor(n_estimators=100),\n",
    "            Lasso(alpha=0.1)\n",
    "        ]\n",
    "    \n",
    "    def fit(self, X, y):\n",
    "        for model in self.models:\n",
    "            model.fit(X, y)\n",
    "    \n",
    "    def predict(self, X):\n",
    "        predictions = np.mean([model.predict(X) for model in self.models], axis=0)\n",
    "        return predictions"
   ]
  },
  {
   "cell_type": "code",
   "execution_count": null,
   "metadata": {},
   "outputs": [],
   "source": [
    "# Treinamento\n",
    "ensemble = CustomEnsemble()\n",
    "ensemble.fit(train_data_pca, train_data['SalePrice'])"
   ]
  },
  {
   "cell_type": "code",
   "execution_count": null,
   "metadata": {},
   "outputs": [],
   "source": [
    "# Avaliação\n",
    "scores = cross_val_score(ensemble, train_data_pca, train_data['SalePrice'], cv=5)\n",
    "print(f'Média de pontuação do modelo: {np.mean(scores)}')"
   ]
  }
 ],
 "metadata": {
  "language_info": {
   "name": "python"
  }
 },
 "nbformat": 4,
 "nbformat_minor": 2
}
